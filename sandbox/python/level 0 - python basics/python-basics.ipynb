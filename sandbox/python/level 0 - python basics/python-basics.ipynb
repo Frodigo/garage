{
 "cells": [
  {
   "cell_type": "markdown",
   "metadata": {},
   "source": [
    "# ## Sum of even numbers\n",
    "Write a program that calculates the sum of all even numbers from 1 to 100."
   ]
  },
  {
   "cell_type": "code",
   "execution_count": 9,
   "metadata": {},
   "outputs": [
    {
     "name": "stdout",
     "output_type": "stream",
     "text": [
      "The sum of even numbers from 1 to 100 is: 2550\n"
     ]
    }
   ],
   "source": [
    "total = 0\n",
    "for num in range(2, 101, 2):\n",
    "    total += num\n",
    "print(f\"The sum of even numbers from 1 to 100 is: {total}\")\n"
   ]
  },
  {
   "cell_type": "markdown",
   "metadata": {},
   "source": [
    "# ## Prime numbers\n",
    "Write a function is_prime(n) that checks if number n is prime"
   ]
  },
  {
   "cell_type": "code",
   "execution_count": 10,
   "metadata": {},
   "outputs": [
    {
     "name": "stdout",
     "output_type": "stream",
     "text": [
      "False\n",
      "True\n",
      "False\n",
      "True\n"
     ]
    }
   ],
   "source": [
    "import numpy as np\n",
    "\n",
    "def is_prime(n):\n",
    "    if n <= 1:\n",
    "        return False\n",
    "    \n",
    "    for i in range(2, int(np.sqrt(n)) + 1):\n",
    "        res = n % i\n",
    "        if res == 0:\n",
    "            return False\n",
    "    return True\n",
    "\n",
    "print(is_prime(1))\n",
    "print(is_prime(13))\n",
    "\n",
    "\n",
    "def is_prime2(n):\n",
    "    if n <= 1:\n",
    "        return False\n",
    "    for i in range(2, int(n ** 0.5) + 1):\n",
    "        res = n % i\n",
    "        if res == 0:\n",
    "            return False\n",
    "    return True\n",
    "    \n",
    "    \n",
    "print(is_prime(1))\n",
    "print(is_prime(13))\n"
   ]
  },
  {
   "cell_type": "code",
   "execution_count": 11,
   "metadata": {},
   "outputs": [
    {
     "name": "stdout",
     "output_type": "stream",
     "text": [
      "False\n",
      "Time taken: 8.511543273925781e-05 seconds\n",
      "False\n",
      "Time taken: 3.1948089599609375e-05 seconds\n"
     ]
    }
   ],
   "source": [
    "import time\n",
    "\n",
    "start = time.time()\n",
    "print(is_prime(567))\n",
    "end = time.time()\n",
    "print(f\"Time taken: {end - start} seconds\")\n",
    "\n",
    "start = time.time()\n",
    "print(is_prime2(567))\n",
    "end = time.time()\n",
    "print(f\"Time taken: {end - start} seconds\")\n",
    "\n",
    "\n"
   ]
  },
  {
   "cell_type": "markdown",
   "metadata": {},
   "source": [
    "# ## Multiplication Table\n",
    "# Write a program that displays a multiplication table in tabular form (up to 10x10)."
   ]
  },
  {
   "cell_type": "code",
   "execution_count": 13,
   "metadata": {},
   "outputs": [
    {
     "name": "stdout",
     "output_type": "stream",
     "text": [
      "Multiplication Table 10x10:\n",
      "       1   2   3   4   5   6   7   8   9  10\n",
      "--------------------------------------------\n",
      " 1 |   1   2   3   4   5   6   7   8   9  10\n",
      " 2 |   2   4   6   8  10  12  14  16  18  20\n",
      " 3 |   3   6   9  12  15  18  21  24  27  30\n",
      " 4 |   4   8  12  16  20  24  28  32  36  40\n",
      " 5 |   5  10  15  20  25  30  35  40  45  50\n",
      " 6 |   6  12  18  24  30  36  42  48  54  60\n",
      " 7 |   7  14  21  28  35  42  49  56  63  70\n",
      " 8 |   8  16  24  32  40  48  56  64  72  80\n",
      " 9 |   9  18  27  36  45  54  63  72  81  90\n",
      "10 |  10  20  30  40  50  60  70  80  90 100\n"
     ]
    }
   ],
   "source": [
    "print(\"Multiplication Table 10x10:\")\n",
    "print(\"    \", end=\"\")  # Leave space for alignment\n",
    "\n",
    "# Print column headers\n",
    "for i in range(1, 11):\n",
    "    print(f\"{i:4}\", end=\"\")\n",
    "print(\"\\n\" + \"-\" * 44)  # Horizontal line for readability\n",
    "\n",
    "# Print rows of the multiplication table\n",
    "for i in range(1, 11):\n",
    "    print(f\"{i:2} |\", end=\"\")  # Row number with separator\n",
    "    for j in range(1, 11):\n",
    "        print(f\"{i*j:4}\", end=\"\")\n",
    "    print()  # New line after each row"
   ]
  }
 ],
 "metadata": {
  "kernelspec": {
   "display_name": "mlenv",
   "language": "python",
   "name": "python3"
  },
  "language_info": {
   "codemirror_mode": {
    "name": "ipython",
    "version": 3
   },
   "file_extension": ".py",
   "mimetype": "text/x-python",
   "name": "python",
   "nbconvert_exporter": "python",
   "pygments_lexer": "ipython3",
   "version": "3.13.2"
  }
 },
 "nbformat": 4,
 "nbformat_minor": 2
}
