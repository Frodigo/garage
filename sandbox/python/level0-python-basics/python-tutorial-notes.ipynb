{
 "cells": [
  {
   "cell_type": "markdown",
   "metadata": {},
   "source": [
    "# Hello world!\n",
    "\n",
    "This are my notes from reading a [Python tutorial](https://docs.python.org/3/tutorial/index.html)\n",
    "\n",
    "## Why Python?\n",
    "\n",
    "- is great for automating tasks like file manipulation, database creation, GUI apps, and games\n",
    "- good choice for both beginners and professional developers\n",
    "- multi-platform: available on Windows, macOS, and Unix\n",
    "- simple to use but powerful with high-level data types\n",
    "- modular design allows code reuse\n",
    "- comes with extensive standard libraries\n",
    "- interpreted language (no compilation needed)\n",
    "- can be used interactively for experimentation\n",
    "- programs are compact and readable thanks to:\n",
    "    - high-level data types\n",
    "    - indentation-based structure\n",
    "    - no variable declarations needed\n",
    "- thanks to that typically program that is written in Python has much less code than program written in C#/Java\n",
    "- is extensible with C for performance-critical operations\n",
    "\n",
    "## Python basics\n",
    "\n",
    "### Simple math things"
   ]
  },
  {
   "cell_type": "code",
   "execution_count": null,
   "metadata": {},
   "outputs": [],
   "source": [
    "# Basic arithmetic\n",
    "2 + 2   # Addition"
   ]
  },
  {
   "cell_type": "code",
   "execution_count": null,
   "metadata": {},
   "outputs": [],
   "source": [
    "50 - 5*6   # Subtraction and multiplication"
   ]
  },
  {
   "cell_type": "code",
   "execution_count": null,
   "metadata": {},
   "outputs": [],
   "source": [
    "(50 - 5*6) / 4   # Parentheses for grouping"
   ]
  },
  {
   "cell_type": "code",
   "execution_count": null,
   "metadata": {},
   "outputs": [],
   "source": [
    "8 / 5   # Division always returns a floating-point number"
   ]
  },
  {
   "cell_type": "markdown",
   "metadata": {},
   "source": [
    "### Division Types"
   ]
  },
  {
   "cell_type": "code",
   "execution_count": null,
   "metadata": {},
   "outputs": [],
   "source": [
    "# Floor division\n",
    "17 // 3   # Discards fractional part"
   ]
  },
  {
   "cell_type": "code",
   "execution_count": null,
   "metadata": {},
   "outputs": [],
   "source": [
    "# Modulo (remainder)\n",
    "17 % 3"
   ]
  },
  {
   "cell_type": "code",
   "execution_count": null,
   "metadata": {},
   "outputs": [],
   "source": [
    "# Power operator\n",
    "2 ** 7   # 2 to the power of 7"
   ]
  },
  {
   "cell_type": "markdown",
   "metadata": {},
   "source": [
    "### Variables"
   ]
  },
  {
   "cell_type": "code",
   "execution_count": null,
   "metadata": {},
   "outputs": [],
   "source": [
    "# Assigning values to variables\n",
    "brand = \"BMW \"\n",
    "model = \"540i e34\"\n",
    "brand + model"
   ]
  },
  {
   "cell_type": "code",
   "execution_count": null,
   "metadata": {},
   "outputs": [],
   "source": [
    "# Using undefined variables will cause an error\n",
    "# n   # Uncomment to see the error"
   ]
  },
  {
   "cell_type": "markdown",
   "metadata": {},
   "source": [
    "### Text (Strings)"
   ]
  },
  {
   "cell_type": "code",
   "execution_count": null,
   "metadata": {},
   "outputs": [],
   "source": [
    "# Strings can use single or double quotes\n",
    "'hello, Sebix!'\n",
    "\"Are you ready for some drift? :)\""
   ]
  },
  {
   "cell_type": "markdown",
   "metadata": {},
   "source": [
    "#### Escaping Quotes"
   ]
  },
  {
   "cell_type": "code",
   "execution_count": 117,
   "metadata": {},
   "outputs": [
    {
     "data": {
      "text/plain": [
       "\"doesn't\""
      ]
     },
     "execution_count": 117,
     "metadata": {},
     "output_type": "execute_result"
    }
   ],
   "source": [
    "# Escaping quotes\n",
    "'doesn\\'t'   # Use \\' to escape single quote\n",
    "\"doesn't\"    # Or use double quotes"
   ]
  },
  {
   "cell_type": "code",
   "execution_count": null,
   "metadata": {},
   "outputs": [],
   "source": [
    "# More examples\n",
    "'\"Yes,\" they said.'\n",
    "\"\\\"Yes,\\\" they said.\""
   ]
  },
  {
   "cell_type": "markdown",
   "metadata": {},
   "source": [
    "#### Special Characters"
   ]
  },
  {
   "cell_type": "code",
   "execution_count": null,
   "metadata": {},
   "outputs": [],
   "source": [
    "# Special characters like \\n (newline)\n",
    "s = 'First line.\\nSecond line.'\n",
    "print(s)"
   ]
  },
  {
   "cell_type": "code",
   "execution_count": null,
   "metadata": {},
   "outputs": [],
   "source": [
    "# Raw strings (no special character interpretation)\n",
    "print(r'C:\\some\\name')"
   ]
  },
  {
   "cell_type": "markdown",
   "metadata": {},
   "source": [
    "#### Multiline Strings"
   ]
  },
  {
   "cell_type": "code",
   "execution_count": null,
   "metadata": {},
   "outputs": [],
   "source": [
    "# Multiline strings using triple quotes\n",
    "print(\"\"\"\n",
    "Usage: drift [OPTIONS]\n",
    "     -t                        Turbo mode\n",
    "     -l level                  Level of drift\n",
    "     -m                        Manual mode\n",
    "\"\"\")"
   ]
  },
  {
   "cell_type": "markdown",
   "metadata": {},
   "source": [
    "#### String Operations"
   ]
  },
  {
   "cell_type": "code",
   "execution_count": null,
   "metadata": {},
   "outputs": [],
   "source": [
    "# Concatenation with + and repetition with *\n",
    "3 * 'un' + 'ium'"
   ]
  },
  {
   "cell_type": "code",
   "execution_count": null,
   "metadata": {},
   "outputs": [],
   "source": [
    "# Adjacent string literals are automatically concatenated\n",
    "'Po' 'land'"
   ]
  },
  {
   "cell_type": "code",
   "execution_count": null,
   "metadata": {},
   "outputs": [],
   "source": [
    "# Breaking long strings\n",
    "text = ('Put several strings within parentheses '\n",
    "        'to have them joined together.')\n",
    "text"
   ]
  },
  {
   "cell_type": "code",
   "execution_count": null,
   "metadata": {},
   "outputs": [],
   "source": [
    "# Concatenating variables and literals\n",
    "prefix = 'What a '\n",
    "prefix + 'wonderful day!'"
   ]
  },
  {
   "cell_type": "markdown",
   "metadata": {},
   "source": [
    "#### String Indexing and Slicing"
   ]
  },
  {
   "cell_type": "code",
   "execution_count": null,
   "metadata": {},
   "outputs": [],
   "source": [
    "# Indexing (accessing characters)\n",
    "dream = 'Porshe'\n",
    "dream[0]   # First character\n",
    "dream[5]   # Last character"
   ]
  },
  {
   "cell_type": "code",
   "execution_count": null,
   "metadata": {},
   "outputs": [],
   "source": [
    "# Negative indices count from the right\n",
    "dream[-1]   # Last character\n",
    "dream[-2]   # Second-last character"
   ]
  },
  {
   "cell_type": "code",
   "execution_count": null,
   "metadata": {},
   "outputs": [],
   "source": [
    "word ='Python'\n",
    "print(word[:2] + word[2:])"
   ]
  },
  {
   "cell_type": "code",
   "execution_count": null,
   "metadata": {},
   "outputs": [],
   "source": [
    "# Slicing (getting substrings)\n",
    "dream[0:2]   # Characters from position 0 (included) to 2 (excluded)\n",
    "dream[2:5]   # Characters from position 2 (included) to 5 (excluded)"
   ]
  },
  {
   "cell_type": "code",
   "execution_count": null,
   "metadata": {},
   "outputs": [],
   "source": [
    "# Slices with omitted indices\n",
    "dream[:2]    # From start to position 2 (excluded)\n",
    "dream[4:]    # From position 4 (included) to end\n",
    "dream[-2:]   # Last two characters"
   ]
  },
  {
   "cell_type": "markdown",
   "metadata": {},
   "source": [
    "Visual representation of string indices:\n",
    "\n",
    "+---+---+---+---+---+---+\n",
    " | P | o | r | s | h | e |\n",
    " +---+---+---+---+---+---+\n",
    " 0   1   2   3   4   5   6\n",
    "-6  -5  -4  -3  -2  -1"
   ]
  },
  {
   "cell_type": "code",
   "execution_count": null,
   "metadata": {},
   "outputs": [],
   "source": [
    "# String immutability\n",
    "# word[0] = 'J'   # This would cause an error"
   ]
  },
  {
   "cell_type": "code",
   "execution_count": 98,
   "metadata": {},
   "outputs": [
    {
     "data": {
      "text/plain": [
       "'Poland'"
      ]
     },
     "execution_count": 98,
     "metadata": {},
     "output_type": "execute_result"
    }
   ],
   "source": [
    "# Creating new strings instead of modifying\n",
    "dream[:2] + 'land'"
   ]
  },
  {
   "cell_type": "code",
   "execution_count": 99,
   "metadata": {},
   "outputs": [
    {
     "data": {
      "text/plain": [
       "26"
      ]
     },
     "execution_count": 99,
     "metadata": {},
     "output_type": "execute_result"
    }
   ],
   "source": [
    "# Getting string length\n",
    "s = 'Hello, Sebix! How are you?'\n",
    "len(s)"
   ]
  },
  {
   "cell_type": "markdown",
   "metadata": {},
   "source": [
    "### Lists\n",
    "\n",
    "Lists are data types that can store multiple values.\n",
    "\n",
    "Strings are immutables, lists are mutable."
   ]
  },
  {
   "cell_type": "code",
   "execution_count": 102,
   "metadata": {},
   "outputs": [
    {
     "data": {
      "text/plain": [
       "['BMW', 'Porshe', 'Mercedes', 'Honda', 'Ford', 'Alfa Romeo']"
      ]
     },
     "execution_count": 102,
     "metadata": {},
     "output_type": "execute_result"
    }
   ],
   "source": [
    "# Creating a list\n",
    "cars = ['BMW', 'Porshe', 'Mercedes', 'Honda', 'Ford', 'Alfa Romeo']\n",
    "cars"
   ]
  },
  {
   "cell_type": "code",
   "execution_count": 103,
   "metadata": {},
   "outputs": [
    {
     "data": {
      "text/plain": [
       "['Honda', 'Ford', 'Alfa Romeo']"
      ]
     },
     "execution_count": 103,
     "metadata": {},
     "output_type": "execute_result"
    }
   ],
   "source": [
    "# Indexing and slicing work similar to strings\n",
    "cars[0]     # First element\n",
    "cars[-1]    # Last element\n",
    "cars[-3:]   # Last three elements"
   ]
  },
  {
   "cell_type": "code",
   "execution_count": 104,
   "metadata": {},
   "outputs": [
    {
     "data": {
      "text/plain": [
       "['BMW', 'Porshe', 'Mercedes', 'Honda', 'Ford', 'Alfa Romeo', 'Fiat', 'Lancia']"
      ]
     },
     "execution_count": 104,
     "metadata": {},
     "output_type": "execute_result"
    }
   ],
   "source": [
    "# List concatenation\n",
    "cars + ['Fiat', 'Lancia']"
   ]
  },
  {
   "cell_type": "code",
   "execution_count": 106,
   "metadata": {},
   "outputs": [
    {
     "data": {
      "text/plain": [
       "['BMW', 'Porshe', 'Toyota', 'Mazda', 'Subaru', 'Alfa Romeo']"
      ]
     },
     "execution_count": 106,
     "metadata": {},
     "output_type": "execute_result"
    }
   ],
   "source": [
    "# Lists are mutable (can be changed)\n",
    "cars[2] = 'Toyota'   # Change element at index 2\n",
    "cars[3:5] = ['Mazda', 'Subaru']   # Replace elements at indices 3 and 4\n",
    "cars"
   ]
  },
  {
   "cell_type": "code",
   "execution_count": 107,
   "metadata": {},
   "outputs": [
    {
     "data": {
      "text/plain": [
       "['BMW', 'Porshe', 'Toyota', 'Mazda', 'Subaru', 'Alfa Romeo', 'Chevrolet']"
      ]
     },
     "execution_count": 107,
     "metadata": {},
     "output_type": "execute_result"
    }
   ],
   "source": [
    "# Adding elements with append()\n",
    "cars.append('Chevrolet') \n",
    "cars"
   ]
  },
  {
   "cell_type": "code",
   "execution_count": 108,
   "metadata": {},
   "outputs": [
    {
     "data": {
      "text/plain": [
       "['BMW',\n",
       " 'Porshe',\n",
       " 'Toyota',\n",
       " 'Mazda',\n",
       " 'Subaru',\n",
       " 'Alfa Romeo',\n",
       " 'Chevrolet',\n",
       " 'Dacia']"
      ]
     },
     "execution_count": 108,
     "metadata": {},
     "output_type": "execute_result"
    }
   ],
   "source": [
    "# Assignment with lists\n",
    "my_cars = cars      # This doesn't create a copy!\n",
    "my_cars.append('Dacia')\n",
    "cars              # Original list is changed too"
   ]
  },
  {
   "cell_type": "code",
   "execution_count": 110,
   "metadata": {},
   "outputs": [
    {
     "name": "stdout",
     "output_type": "stream",
     "text": [
      "Original: ['BMW', 'Porshe', 'Toyota', 'Mazda', 'Subaru', 'Alfa Romeo', 'Chevrolet', 'Dacia']\n",
      "Copy: ['Polonez', 'Porshe', 'Toyota', 'Mazda', 'Subaru', 'Alfa Romeo', 'Chevrolet', 'Dacia']\n"
     ]
    }
   ],
   "source": [
    "# Creating a copy of a list\n",
    "myCars = cars[:]  # Slice copy\n",
    "myCars[0] = 'Polonez'       # Modify the copy\n",
    "print(\"Original:\", cars)\n",
    "print(\"Copy:\", myCars)"
   ]
  },
  {
   "cell_type": "code",
   "execution_count": 112,
   "metadata": {},
   "outputs": [
    {
     "data": {
      "text/plain": [
       "['BMW',\n",
       " 'Porshe',\n",
       " 'Peugeot',\n",
       " 'Renault',\n",
       " 'Citroen',\n",
       " 'Alfa Romeo',\n",
       " 'Chevrolet',\n",
       " 'Dacia']"
      ]
     },
     "execution_count": 112,
     "metadata": {},
     "output_type": "execute_result"
    }
   ],
   "source": [
    "# Modifying lists with slice assignment\n",
    "cars[2:5] = ['Peugeot', 'Renault', 'Citroen']  # Replace elements\n",
    "cars"
   ]
  },
  {
   "cell_type": "code",
   "execution_count": 113,
   "metadata": {},
   "outputs": [
    {
     "data": {
      "text/plain": [
       "['BMW', 'Porshe', 'Alfa Romeo', 'Chevrolet', 'Dacia']"
      ]
     },
     "execution_count": 113,
     "metadata": {},
     "output_type": "execute_result"
    }
   ],
   "source": [
    "# Removing elements\n",
    "cars[2:5] = []\n",
    "cars"
   ]
  },
  {
   "cell_type": "code",
   "execution_count": 114,
   "metadata": {},
   "outputs": [
    {
     "data": {
      "text/plain": [
       "[]"
      ]
     },
     "execution_count": 114,
     "metadata": {},
     "output_type": "execute_result"
    }
   ],
   "source": [
    "# Clearing a list\n",
    "cars[:] = []\n",
    "cars"
   ]
  },
  {
   "cell_type": "code",
   "execution_count": 115,
   "metadata": {},
   "outputs": [
    {
     "data": {
      "text/plain": [
       "6"
      ]
     },
     "execution_count": 115,
     "metadata": {},
     "output_type": "execute_result"
    }
   ],
   "source": [
    "# List length\n",
    "cars = ['BMW', 'Porshe', 'Mercedes', 'Honda', 'Ford', 'Alfa Romeo']\n",
    "len(cars)"
   ]
  },
  {
   "cell_type": "code",
   "execution_count": 116,
   "metadata": {},
   "outputs": [
    {
     "data": {
      "text/plain": [
       "'Ford'"
      ]
     },
     "execution_count": 116,
     "metadata": {},
     "output_type": "execute_result"
    }
   ],
   "source": [
    "# Nested lists\n",
    "us_cars = ['Chevrolet', 'Ford', 'Dodge']\n",
    "eu_cars = ['BMW', 'Mercedes', 'Volkswagen']\n",
    "japanese_cars = ['Toyota', 'Honda', 'Nissan']\n",
    "all_cars = [us_cars, eu_cars, japanese_cars]  # Nested list\n",
    "all_cars[0]    # First nested list\n",
    "all_cars[0][1] # Second element of first nested list"
   ]
  },
  {
   "cell_type": "markdown",
   "metadata": {},
   "source": [
    "## Control flows\n",
    "\n",
    "### `if` Statements\n",
    "\n",
    "Python's conditional execution is done with if statements:"
   ]
  },
  {
   "cell_type": "code",
   "execution_count": 2,
   "metadata": {},
   "outputs": [
    {
     "name": "stdout",
     "output_type": "stream",
     "text": [
      "You can be a drift master!\n"
     ]
    }
   ],
   "source": [
    "x = int(input(\"Please enter your car horsepower: \"))\n",
    "if x < 200:\n",
    "    print('You need more power to drift!')\n",
    "elif x < 500:\n",
    "    print('You are ready to drift!')\n",
    "else:\n",
    "    print('You can be a drift master!')"
   ]
  },
  {
   "cell_type": "markdown",
   "metadata": {},
   "source": [
    "- `elif` is short for \"else if\" and helps avoid excessive indentation\n",
    "- multiple `elif` parts are allowed, but the `else` part is optional\n",
    "- an `if...elif...elif..`. sequence is Python's way of providing switch or case statements"
   ]
  },
  {
   "cell_type": "markdown",
   "metadata": {},
   "source": [
    "### `for` statements\n",
    "\n",
    "The `for` statement in Python iterates over items in a sequence:"
   ]
  },
  {
   "cell_type": "code",
   "execution_count": 3,
   "metadata": {},
   "outputs": [
    {
     "name": "stdout",
     "output_type": "stream",
     "text": [
      "BMW\n",
      "Porshe\n",
      "Mercedes\n",
      "Honda\n",
      "Ford\n",
      "Alfa Romeo\n"
     ]
    }
   ],
   "source": [
    "cars = ['BMW', 'Porshe', 'Mercedes', 'Honda', 'Ford', 'Alfa Romeo']\n",
    "for car in cars:\n",
    "    print(car)"
   ]
  },
  {
   "cell_type": "markdown",
   "metadata": {},
   "source": [
    "When modifying a collection during iteration, it's safer to:\n",
    "\n",
    "1. Iterate over a copy of the collection, or\n",
    "2. Create a new collection"
   ]
  },
  {
   "cell_type": "code",
   "execution_count": 4,
   "metadata": {},
   "outputs": [],
   "source": [
    "# Strategy 1: Iterate over a copy\n",
    "drivers = {'Sebix': 'active',\n",
    "           'Marek': 'inactive',\n",
    "           'Sebastian': 'active',\n",
    "           'Krzysiek': 'inactive'}\n",
    "\n",
    "for driver, status in drivers.copy().items():\n",
    "    if status == 'inactive':\n",
    "        del drivers[driver]\n",
    "\n",
    "# Strategy 2: Create a new collection\n",
    "active_drivers = {}\n",
    "for driver, status in drivers.items():\n",
    "    if status == 'active':\n",
    "        active_drivers[driver] = status"
   ]
  },
  {
   "cell_type": "markdown",
   "metadata": {},
   "source": [
    "### The `range()` function\n",
    "\n",
    "The `range()` function generates arithmetic sequences:"
   ]
  },
  {
   "cell_type": "code",
   "execution_count": 5,
   "metadata": {},
   "outputs": [
    {
     "name": "stdout",
     "output_type": "stream",
     "text": [
      "0\n",
      "1\n",
      "2\n",
      "3\n",
      "4\n"
     ]
    }
   ],
   "source": [
    "for i in range(5):\n",
    "    print(i)"
   ]
  },
  {
   "cell_type": "markdown",
   "metadata": {},
   "source": [
    "`range()` options:\n",
    "\n",
    "- `range(stop)` - Start at 0, end before stop\n",
    "- `range(start, stop)` - Start at start, end before stop\n",
    "- `range(start, stop, step)` - Start at start, end before stop, with step increment"
   ]
  },
  {
   "cell_type": "markdown",
   "metadata": {},
   "source": [
    "For iterating over sequence indices:"
   ]
  },
  {
   "cell_type": "code",
   "execution_count": 6,
   "metadata": {},
   "outputs": [
    {
     "name": "stdout",
     "output_type": "stream",
     "text": [
      "0 Andrew\n",
      "1 had\n",
      "2 a\n",
      "3 slow\n",
      "4 car\n"
     ]
    }
   ],
   "source": [
    "a = ['Andrew', 'had', 'a', 'slow', 'car']\n",
    "for i in range(len(a)):\n",
    "    print(i, a[i])"
   ]
  },
  {
   "cell_type": "markdown",
   "metadata": {},
   "source": [
    "But `enumerate()` is usually more convenient:"
   ]
  },
  {
   "cell_type": "code",
   "execution_count": 7,
   "metadata": {},
   "outputs": [
    {
     "name": "stdout",
     "output_type": "stream",
     "text": [
      "0 Andrew\n",
      "1 had\n",
      "2 a\n",
      "3 slow\n",
      "4 car\n"
     ]
    }
   ],
   "source": [
    "for i, item in enumerate(a):\n",
    "    print(i, item)"
   ]
  },
  {
   "cell_type": "markdown",
   "metadata": {},
   "source": [
    "### `break` and `continue` statements\n",
    "\n",
    "The `break` statement exits the innermost loop:"
   ]
  },
  {
   "cell_type": "code",
   "execution_count": 8,
   "metadata": {},
   "outputs": [
    {
     "name": "stdout",
     "output_type": "stream",
     "text": [
      "4 equals 2 * 2\n",
      "6 equals 2 * 3\n",
      "8 equals 2 * 4\n",
      "9 equals 3 * 3\n"
     ]
    }
   ],
   "source": [
    "for n in range(2, 10):\n",
    "    for x in range(2, n):\n",
    "        if n % x == 0:\n",
    "            print(f\"{n} equals {x} * {n//x}\")\n",
    "            break"
   ]
  },
  {
   "cell_type": "markdown",
   "metadata": {},
   "source": [
    "The `continue` statement skips to the next iteration:"
   ]
  },
  {
   "cell_type": "code",
   "execution_count": 9,
   "metadata": {},
   "outputs": [
    {
     "name": "stdout",
     "output_type": "stream",
     "text": [
      "Found an even number 2\n",
      "Found an odd number 3\n",
      "Found an even number 4\n",
      "Found an odd number 5\n",
      "Found an even number 6\n",
      "Found an odd number 7\n",
      "Found an even number 8\n",
      "Found an odd number 9\n"
     ]
    }
   ],
   "source": [
    "for num in range(2, 10):\n",
    "    if num % 2 == 0:\n",
    "        print(f\"Found an even number {num}\")\n",
    "        continue\n",
    "    print(f\"Found an odd number {num}\")"
   ]
  },
  {
   "cell_type": "markdown",
   "metadata": {},
   "source": [
    "### `else` clauses on loops\n",
    "\n",
    "Loops can have an `else` clause that executes when:\n",
    "\n",
    "1. In `for` loops: after completing all iterations (no break)\n",
    "2. In `while` loops: when the condition becomes false (no break)"
   ]
  },
  {
   "cell_type": "code",
   "execution_count": null,
   "metadata": {},
   "outputs": [
    {
     "name": "stdout",
     "output_type": "stream",
     "text": [
      "Speed 20 is within all limits\n",
      "Speed 30 is within all limits\n",
      "Speed 40 exceeds the limit of 30 by 10 km/h\n",
      "Speed 50 exceeds the limit of 30 by 20 km/h\n",
      "Speed 60 exceeds the limit of 30 by 30 km/h\n",
      "Speed 70 exceeds the limit of 30 by 40 km/h\n",
      "Speed 80 exceeds the limit of 30 by 50 km/h\n",
      "Speed 90 exceeds the limit of 30 by 60 km/h\n"
     ]
    }
   ],
   "source": [
    "for speed in range(20, 100, 10):\n",
    "    for limit in range(30, 70, 10):\n",
    "        if speed > limit:\n",
    "            print(f\"Speed {speed} exceeds the limit of {limit} by {speed - limit} km/h\")\n",
    "            break\n",
    "    else:\n",
    "        print(f\"Speed {speed} is within all limits\")"
   ]
  },
  {
   "cell_type": "markdown",
   "metadata": {},
   "source": [
    "### `match` Statements\n",
    "\n",
    "The match statement compares a value against patterns:"
   ]
  },
  {
   "cell_type": "code",
   "execution_count": 10,
   "metadata": {},
   "outputs": [
    {
     "name": "stdout",
     "output_type": "stream",
     "text": [
      "The car is parked.\n",
      "The car is cruising at a moderate speed.\n",
      "The car is speeding!\n"
     ]
    }
   ],
   "source": [
    "def car_status(speed):\n",
    "    match speed:\n",
    "        case 0:\n",
    "            return \"The car is parked.\"\n",
    "        case 1 | 2 | 3:\n",
    "            return \"The car is moving slowly.\"\n",
    "        case 4 | 5 | 6:\n",
    "            return \"The car is cruising at a moderate speed.\"\n",
    "        case 7 | 8 | 9 | 10:\n",
    "            return \"The car is speeding!\"\n",
    "        case _:\n",
    "            return \"Invalid speed.\"\n",
    "\n",
    "print(car_status(0)) \n",
    "print(car_status(5))  \n",
    "print(car_status(10))"
   ]
  },
  {
   "cell_type": "markdown",
   "metadata": {},
   "source": [
    "### Defining Functions\n",
    "\n",
    "Functions are defined with the def keyword:\n"
   ]
  },
  {
   "cell_type": "code",
   "execution_count": 13,
   "metadata": {},
   "outputs": [
    {
     "name": "stdout",
     "output_type": "stream",
     "text": [
      "You need more power to drift!\n",
      "You need more power to drift!\n",
      "You are ready to drift!\n"
     ]
    }
   ],
   "source": [
    "def drift_master(speed):\n",
    "    while speed < 200:\n",
    "        print(\"You need more power to drift!\")\n",
    "        speed += 50\n",
    "    print(\"You are ready to drift!\")\n",
    "drift_master(100)  # Start with 100 hp"
   ]
  },
  {
   "cell_type": "markdown",
   "metadata": {},
   "source": [
    "Functions can return values:"
   ]
  },
  {
   "cell_type": "code",
   "execution_count": 14,
   "metadata": {},
   "outputs": [
    {
     "name": "stdout",
     "output_type": "stream",
     "text": [
      "False\n",
      "True\n"
     ]
    }
   ],
   "source": [
    "def are_you_fast(speed):\n",
    "    if speed < 100:\n",
    "        return False\n",
    "    elif speed > 100:\n",
    "        return True\n",
    "    \n",
    "print(are_you_fast(50)) \n",
    "print(are_you_fast(150))"
   ]
  },
  {
   "cell_type": "markdown",
   "metadata": {},
   "source": [
    "### Advanced Function Features\n",
    "\n",
    "#### Default Argument Values\n"
   ]
  },
  {
   "cell_type": "code",
   "execution_count": null,
   "metadata": {},
   "outputs": [
    {
     "name": "stdout",
     "output_type": "stream",
     "text": [
      "Sebix drives a BMW\n",
      "Marek drives a Porshe\n"
     ]
    }
   ],
   "source": [
    "def choose_car(driver_name, car='BMW'):\n",
    "    print(f\"{driver_name} drives a {car}\")\n",
    "    \n",
    "choose_car('Sebix') \n",
    "choose_car('Marek', 'Porshe')"
   ]
  },
  {
   "cell_type": "markdown",
   "metadata": {},
   "source": [
    "Important: Default values are evaluated once at function definition!"
   ]
  },
  {
   "cell_type": "code",
   "execution_count": 16,
   "metadata": {},
   "outputs": [
    {
     "name": "stdout",
     "output_type": "stream",
     "text": [
      "[1]\n",
      "[1, 2]\n"
     ]
    }
   ],
   "source": [
    "# Be careful with mutable defaults\n",
    "def foo(a, L=[]):  # L is created only once!\n",
    "    L.append(a)\n",
    "    return L\n",
    "\n",
    "print(foo(1))  # [1]\n",
    "print(foo(2))  # [1, 2]  - L persists between calls!\n",
    "\n",
    "# Better approach\n",
    "def foo2(a, L=None):\n",
    "    if L is None:\n",
    "        L = []\n",
    "    L.append(a)\n",
    "    return L"
   ]
  },
  {
   "cell_type": "markdown",
   "metadata": {},
   "source": [
    "#### Keyword Arguments"
   ]
  },
  {
   "cell_type": "code",
   "execution_count": 17,
   "metadata": {},
   "outputs": [
    {
     "name": "stdout",
     "output_type": "stream",
     "text": [
      "-- This car engine wouldn't idle if it had 300 horsepower.\n",
      "-- It's a V8 engine.\n",
      "-- The engine is currently off !\n",
      "-- This car engine wouldn't idle if it had 300 horsepower.\n",
      "-- It's a V8 engine.\n",
      "-- The engine is currently off !\n",
      "-- This car engine wouldn't roaring if it had 700 horsepower.\n",
      "-- It's a V8 engine.\n",
      "-- The engine is currently off !\n",
      "-- This car engine wouldn't revving if it had a thousand horsepower.\n",
      "-- It's a V8 engine.\n",
      "-- The engine is currently overheated !\n"
     ]
    }
   ],
   "source": [
    "def car_engine(horsepower, state='off', action='idle', type='V8'):\n",
    "    print(\"-- This car engine wouldn't\", action, end=' ')\n",
    "    print(\"if it had\", horsepower, \"horsepower.\")\n",
    "    print(\"-- It's a\", type, \"engine.\")\n",
    "    print(\"-- The engine is currently\", state, \"!\")\n",
    "\n",
    "# Valid calls\n",
    "car_engine(300)                                  # 1 positional argument\n",
    "car_engine(horsepower=300)                       # 1 keyword argument\n",
    "car_engine(horsepower=700, action='roaring')     # 2 keyword arguments\n",
    "car_engine('a thousand', 'overheated', 'revving') # 3 positional arguments"
   ]
  },
  {
   "cell_type": "markdown",
   "metadata": {},
   "source": [
    "#### Special Parameter Types\n",
    "\n",
    "Functions can specify parameter types:"
   ]
  },
  {
   "cell_type": "code",
   "execution_count": null,
   "metadata": {},
   "outputs": [],
   "source": [
    "def f(pos1, pos2, /, pos_or_kwd, *, kwd1, kwd2):\n",
    "    # pos1, pos2: positional-only (before /)\n",
    "    # pos_or_kwd: positional or keyword\n",
    "    # kwd1, kwd2: keyword-only (after *)\n",
    "    pass"
   ]
  },
  {
   "cell_type": "markdown",
   "metadata": {},
   "source": [
    "#### Arbitrary Argument Lists\n",
    "\n",
    "Functions can accept a variable number of arguments:"
   ]
  },
  {
   "cell_type": "code",
   "execution_count": 18,
   "metadata": {},
   "outputs": [
    {
     "data": {
      "text/plain": [
       "'earth.mars.venus'"
      ]
     },
     "execution_count": 18,
     "metadata": {},
     "output_type": "execute_result"
    }
   ],
   "source": [
    "def write_multiple_items(file, separator, *args):\n",
    "    file.write(separator.join(args))\n",
    "\n",
    "# *args collects extra positional arguments into a tuple\n",
    "def concat(*args, sep=\"/\"):\n",
    "    return sep.join(args)\n",
    "\n",
    "concat(\"earth\", \"mars\", \"venus\")         # 'earth/mars/venus'\n",
    "concat(\"earth\", \"mars\", \"venus\", sep=\".\") # 'earth.mars.venus'"
   ]
  },
  {
   "cell_type": "markdown",
   "metadata": {},
   "source": [
    "#### Unpacking Argument Lists\n",
    "\n",
    "The * operator unpacks lists/tuples into separate arguments:"
   ]
  },
  {
   "cell_type": "code",
   "execution_count": 19,
   "metadata": {},
   "outputs": [
    {
     "data": {
      "text/plain": [
       "[3, 4, 5]"
      ]
     },
     "execution_count": 19,
     "metadata": {},
     "output_type": "execute_result"
    }
   ],
   "source": [
    "args = [3, 6]\n",
    "list(range(*args))  # Same as list(range(3, 6))"
   ]
  },
  {
   "cell_type": "markdown",
   "metadata": {},
   "source": [
    "The `**` operator unpacks dictionaries as keyword arguments:"
   ]
  },
  {
   "cell_type": "code",
   "execution_count": 20,
   "metadata": {},
   "outputs": [
    {
     "name": "stdout",
     "output_type": "stream",
     "text": [
      "-- This car engine wouldn't revving if it had four hundred horsepower. It's currently overheated !\n"
     ]
    }
   ],
   "source": [
    "def car_engine(horsepower, state='off', action='idle'):\n",
    "    print(\"-- This car engine wouldn't\", action, end=' ')\n",
    "    print(\"if it had\", horsepower, \"horsepower.\", end=' ')\n",
    "    print(\"It's currently\", state, \"!\")\n",
    "\n",
    "d = {\"horsepower\": \"four hundred\", \"state\": \"overheated\", \"action\": \"revving\"}\n",
    "car_engine(**d)  # Unpacks d as keyword arguments"
   ]
  },
  {
   "cell_type": "markdown",
   "metadata": {},
   "source": [
    "#### Lambda Expressions\n",
    "\n",
    "Create small anonymous functions with lambda:"
   ]
  },
  {
   "cell_type": "code",
   "execution_count": 21,
   "metadata": {},
   "outputs": [],
   "source": [
    "# Lambda returning a value\n",
    "lambda a, b: a+b\n",
    "\n",
    "# Lambda returning a function\n",
    "def make_incrementor(n):\n",
    "    return lambda x: x + n\n",
    "\n",
    "f = make_incrementor(42)\n",
    "f(0)  # 42\n",
    "f(1)  # 43\n",
    "\n",
    "# Lambda as an argument\n",
    "pairs = [(1, 'one'), (2, 'two'), (3, 'three'), (4, 'four')]\n",
    "pairs.sort(key=lambda pair: pair[1])\n",
    "# [(4, 'four'), (1, 'one'), (3, 'three'), (2, 'two')]"
   ]
  },
  {
   "cell_type": "markdown",
   "metadata": {},
   "source": [
    "## Python Coding Style (PEP 8)\n",
    "\n",
    "- use 4-space indentation, no tabs\n",
    "- limit lines to 79 characters\n",
    "- use blank lines to separate functions, classes, and code blocks\n",
    "- put comments on their own lines when possible\n",
    "- use docstrings\n",
    "- sse spaces around operators: `a = f(1, 2) + g(3, 4)`\n",
    "- class names: `UpperCamelCase`\n",
    "- function names: `lowercase_with_underscores`\n",
    "- always use `self` as first method argument\n",
    "- use UTF-8 encoding (default)\n",
    "\n",
    "Linter: [https://pypi.org/project/autopep8/](https://pypi.org/project/autopep8/)"
   ]
  },
  {
   "cell_type": "markdown",
   "metadata": {},
   "source": [
    "|"
   ]
  },
  {
   "cell_type": "markdown",
   "metadata": {},
   "source": [
    "## Data structures\n",
    "\n",
    "### More on Lists\n",
    "Lists are one of Python's most versatile data structures. Let's explore the methods they provide:\n"
   ]
  },
  {
   "cell_type": "code",
   "execution_count": 22,
   "metadata": {},
   "outputs": [
    {
     "name": "stdout",
     "output_type": "stream",
     "text": [
      "['Honda', 'Alfa Romeo', 'Ford', 'Honda', 'Mercedes', 'Porshe', 'BMW']\n",
      "['Honda', 'Alfa Romeo', 'Ford', 'Honda', 'Mercedes', 'Porshe', 'BMW', 'Fiat']\n",
      "['Alfa Romeo', 'BMW', 'Fiat', 'Ford', 'Honda', 'Honda', 'Mercedes', 'Porshe']\n",
      "Porshe\n",
      "['Alfa Romeo', 'BMW', 'Fiat', 'Ford', 'Honda', 'Honda', 'Mercedes']\n"
     ]
    }
   ],
   "source": [
    "cars = ['BMW', 'Porshe', 'Mercedes', 'Honda', 'Ford', 'Alfa Romeo', 'Honda']\n",
    "\n",
    "# Count occurrences of an element\n",
    "cars.count('BMW')  # Returns 1\n",
    "cars.count('Opel')  # Returns 0\n",
    "\n",
    "# Find index of first occurrence\n",
    "cars.index('Honda')   # Returns 3\n",
    "cars.index('Honda', 4)  # Find next Honda starting at position 4, returns 6\n",
    "\n",
    "# Reverse the list in place\n",
    "cars.reverse()\n",
    "print(cars)  # ['Honda', 'Alfa Romeo', 'Ford', 'Honda', 'Mercedes', 'Porshe', 'BMW']\n",
    "\n",
    "# Add an element to the end\n",
    "cars.append('Fiat')\n",
    "print(cars) \n",
    "\n",
    "# Sort the list in place\n",
    "cars.sort()\n",
    "print(cars) \n",
    "\n",
    "# Remove and return the last element\n",
    "last_car = cars.pop()\n",
    "print(last_car) \n",
    "print(cars) "
   ]
  },
  {
   "cell_type": "markdown",
   "metadata": {},
   "source": [
    "Other useful list methods:"
   ]
  },
  {
   "cell_type": "code",
   "execution_count": 23,
   "metadata": {},
   "outputs": [],
   "source": [
    "# Add all items from an iterable to the end\n",
    "cars.extend(['Chevrolet', 'Dacia'])\n",
    "\n",
    "# Insert an item at a specific position\n",
    "cars.insert(0, 'Mercedes')  # Insert at beginning\n",
    "cars.insert(len(cars), 'Suzuki')  # Same as append\n",
    "\n",
    "# Remove first occurrence of a value\n",
    "cars.remove('Dacia')  # Raises ValueError if not found\n",
    "\n",
    "# Remove all elements\n",
    "cars.clear() \n",
    "\n",
    "# Create a shallow copy\n",
    "new_cars = cars.copy()  # Same as fruits[:]"
   ]
  },
  {
   "cell_type": "markdown",
   "metadata": {},
   "source": [
    "#### Using Lists as Stacks (LIFO)"
   ]
  },
  {
   "cell_type": "code",
   "execution_count": 24,
   "metadata": {},
   "outputs": [
    {
     "name": "stdout",
     "output_type": "stream",
     "text": [
      "[3, 4, 5, 6]\n",
      "[3, 4]\n"
     ]
    }
   ],
   "source": [
    "stack = [3, 4, 5]\n",
    "stack.append(6)     \n",
    "stack.append(7)       \n",
    "\n",
    "top_item = stack.pop()\n",
    "print(stack)        \n",
    "\n",
    "stack.pop()           \n",
    "stack.pop()          \n",
    "print(stack)        "
   ]
  },
  {
   "cell_type": "markdown",
   "metadata": {},
   "source": [
    "#### Using Lists as Queues (FIFO)\n",
    "\n",
    "Lists are inefficient as queues because inserting/removing from the beginning is slow. Use `collections.deque` instead:"
   ]
  },
  {
   "cell_type": "code",
   "execution_count": 25,
   "metadata": {},
   "outputs": [
    {
     "name": "stdout",
     "output_type": "stream",
     "text": [
      "deque(['Honda', 'Mercedes', 'Porshe'])\n"
     ]
    }
   ],
   "source": [
    "from collections import deque\n",
    "queue = deque([\"BMW\", \"Opel\", \"Honda\"]) \n",
    "queue.append(\"Mercedes\")    \n",
    "queue.append(\"Porshe\")    \n",
    "\n",
    "first_out = queue.popleft()  \n",
    "second_out = queue.popleft() \n",
    "print(queue)             "
   ]
  },
  {
   "cell_type": "markdown",
   "metadata": {},
   "source": [
    "### Tuples and Sequences\n",
    "\n",
    "Tuples are immutable sequences:"
   ]
  },
  {
   "cell_type": "code",
   "execution_count": 28,
   "metadata": {},
   "outputs": [
    {
     "name": "stdout",
     "output_type": "stream",
     "text": [
      "(12345, 54321, 'hello!')\n",
      "12345\n",
      "((12345, 54321, 'hello!'), (1, 2, 3, 4, 5))\n",
      "([4, 2, 3], [3, 2, 1])\n",
      "0\n",
      "1\n",
      "('hello',)\n",
      "12345 54321 hello!\n"
     ]
    }
   ],
   "source": [
    "# Creating tuples\n",
    "t = 12345, 54321, 'hello!'  # Tuple packing\n",
    "print(t)       # (12345, 54321, 'hello!')\n",
    "print(t[0])    # 12345\n",
    "\n",
    "# Nested tuples\n",
    "u = t, (1, 2, 3, 4, 5)\n",
    "print(u)       # ((12345, 54321, 'hello!'), (1, 2, 3, 4, 5))\n",
    "\n",
    "# Tuples are immutable\n",
    "# t[0] = 88888  # TypeError: 'tuple' object does not support item assignment\n",
    "\n",
    "# But they can contain mutable objects\n",
    "v = ([1, 2, 3], [3, 2, 1])\n",
    "v[0][0] = 4    # This works\n",
    "print(v)       # ([4, 2, 3], [3, 2, 1])\n",
    "\n",
    "# Special cases\n",
    "empty = ()     # Empty tuple\n",
    "singleton = 'hello',  # Note the trailing comma!\n",
    "print(len(empty))     # 0\n",
    "print(len(singleton)) # 1\n",
    "print(singleton)      # ('hello',)\n",
    "\n",
    "# Sequence unpacking\n",
    "x, y, z = t    # Unpacks tuple t into variables\n",
    "print(x, y, z) # 12345 54321 hello!"
   ]
  },
  {
   "cell_type": "markdown",
   "metadata": {},
   "source": [
    "### Sets\n",
    "Sets are unordered collections of unique elements:"
   ]
  },
  {
   "cell_type": "code",
   "execution_count": 27,
   "metadata": {},
   "outputs": [
    {
     "name": "stdout",
     "output_type": "stream",
     "text": [
      "{'Ford', 'Toyota', 'Honda', 'BMW'}\n",
      "True\n",
      "False\n",
      "{'Ford', 'Toyota', 'Honda', 'BMW'}\n",
      "{'Honda', 'BMW'}\n",
      "{'BMW', 'Ford', 'Mazda', 'Nissan', 'Honda', 'Toyota'}\n",
      "{'Ford', 'Toyota'}\n",
      "{'BMW', 'Mazda', 'Nissan', 'Honda'}\n",
      "{'Ford', 'BMW'}\n"
     ]
    }
   ],
   "source": [
    "# Creating sets\n",
    "garage = {'BMW', 'Toyota', 'BMW', 'Honda', 'Toyota', 'Ford'}\n",
    "print(garage)   # {'BMW', 'Toyota', 'Honda', 'Ford'} - duplicates removed\n",
    "\n",
    "# Membership testing\n",
    "print('Toyota' in garage)    # True\n",
    "print('Ferrari' in garage)   # False\n",
    "\n",
    "# Set operations\n",
    "a = set(['BMW', 'Toyota', 'Honda', 'Ford'])\n",
    "b = set(['Toyota', 'Mazda', 'Ford', 'Nissan'])\n",
    "\n",
    "print(a)                  # {'BMW', 'Toyota', 'Honda', 'Ford'}\n",
    "print(a - b)              # Difference: {'BMW', 'Honda'}\n",
    "print(a | b)              # Union: {'BMW', 'Toyota', 'Honda', 'Ford', 'Mazda', 'Nissan'}\n",
    "print(a & b)              # Intersection: {'Toyota', 'Ford'}\n",
    "print(a ^ b)              # Symmetric difference: {'BMW', 'Honda', 'Mazda', 'Nissan'}\n",
    "\n",
    "# Set comprehensions\n",
    "japanese_cars = {'Toyota', 'Honda', 'Nissan', 'Mazda'}\n",
    "non_japanese_cars = {x for x in garage if x not in japanese_cars}\n",
    "print(non_japanese_cars)  # {'BMW', 'Ford'}"
   ]
  },
  {
   "cell_type": "markdown",
   "metadata": {},
   "source": [
    "### Dictionaries\n",
    "\n",
    "Dictionaries are key-value stores:"
   ]
  },
  {
   "cell_type": "code",
   "execution_count": 26,
   "metadata": {},
   "outputs": [
    {
     "name": "stdout",
     "output_type": "stream",
     "text": [
      "{'BMW': 1998, 'Toyota': 2005, 'Honda': 2010}\n",
      "1998\n",
      "{'BMW': 1998, 'Honda': 2010, 'Ford': 2015}\n",
      "['BMW', 'Honda', 'Ford']\n",
      "['BMW', 'Ford', 'Honda']\n",
      "True\n",
      "True\n"
     ]
    }
   ],
   "source": [
    "# Creating dictionaries\n",
    "cars = {'BMW': 1998, 'Toyota': 2005}\n",
    "cars['Honda'] = 2010       # Add new key-value pair\n",
    "print(cars)                # {'BMW': 1998, 'Toyota': 2005, 'Honda': 2010}\n",
    "\n",
    "# Accessing values\n",
    "print(cars['BMW'])         # 1998\n",
    "\n",
    "# Modifying dictionaries\n",
    "del cars['Toyota']         # Remove entry\n",
    "cars['Ford'] = 2015        # Add new entry\n",
    "print(cars)                # {'BMW': 1998, 'Honda': 2010, 'Ford': 2015}\n",
    "\n",
    "# Getting keys\n",
    "print(list(cars))          # ['BMW', 'Honda', 'Ford']\n",
    "print(sorted(cars))        # ['BMW', 'Ford', 'Honda']\n",
    "\n",
    "# Membership testing\n",
    "print('Honda' in cars)     # True\n",
    "print('Toyota' not in cars)  # True\n",
    "\n",
    "# Different ways to create dictionaries\n",
    "# From sequence of key-value pairs\n",
    "d1 = dict([('BMW', 1998), ('Toyota', 2005), ('Honda', 2010)])\n",
    "\n",
    "# Using comprehension\n",
    "d2 = {x: x**2 for x in (2, 4, 6)}  # {2: 4, 4: 16, 6: 36}\n",
    "\n",
    "# Using keyword arguments (when keys are strings)\n",
    "d3 = dict(BMW=1998, Toyota=2005, Honda=2010)"
   ]
  },
  {
   "cell_type": "markdown",
   "metadata": {},
   "source": [
    "## Modules\n",
    "\n",
    "### Importing \n",
    "\n",
    "Importing module:\n",
    "\n",
    "```python\n",
    "import my_module\n",
    "```\n",
    "\n",
    "Imagine I have a function `foo()` in this module.\n",
    "\n",
    "I can use it like this:\n",
    "\n",
    "```python\n",
    "my_module.foo()\n",
    "```\n",
    "\n",
    "I can also import it directly:\n",
    "\n",
    "```python\n",
    "from my_module import foo\n",
    "\n",
    "foo()\n",
    "```\n",
    "\n",
    "### Aliases\n",
    "\n",
    "```python\n",
    "import my_module as your_module\n",
    "\n",
    "your_module.foo()\n",
    "```\n",
    "\n",
    "```python\n",
    "from my_module import foo as bar\n",
    "\n",
    "bar()\n",
    "```\n",
    "\n",
    "### Executing modules as scripts\n",
    "\n",
    "By default when you run a module code as script, code will be not executed.\n",
    "\n",
    "But it's possible to add `if` thant check `__name__` and if it equals `__main__` code will be executed.\n",
    "\n",
    "### Packages\n",
    "\n",
    "Packages contains different modules. \n",
    "\n",
    "\n",
    "For example, the module name Foo.Bar designates a submodule named Bar in a package named Foo.\n",
    "\n",
    "If I wanted to create a collection of modules for a car repair shop management system, I could do it like this:\n",
    "\n",
    "```python\n",
    "automotive/                     Top-level package\n",
    "      __init__.py               Initialize the automotive package\n",
    "      models/                   Subpackage for vehicle model handling\n",
    "              __init__.py\n",
    "              bmw.py\n",
    "              audi.py\n",
    "              merceds.py\n",
    "              ...\n",
    "      tuning/                   Subpackage for vehicle modifications\n",
    "              __init__.py\n",
    "              chip_tuning.py\n",
    "              exhaust.py\n",
    "              suspension.py\n",
    "              ...\n",
    "      diagnostics/              Subpackage for diagnostics\n",
    "              __init__.py\n",
    "              engine_analyzer.py\n",
    "              computer_scan.py\n",
    "              emissions_test.py\n",
    "              ...\n",
    "```\n",
    "\n",
    "Note: when you want to let Python know that directory contains packages, you must create a `__init__.py` in a directory.\n",
    "\n",
    "It can be an empty file, but it can also execute some initialization code. \n",
    "\n",
    "\n",
    "### Importing packages\n",
    "\n",
    "I can import individual modules from the package, for example:\n",
    "\n",
    "```python\n",
    "import automotive.tuning.chip_tuning\n",
    "```\n",
    "\n",
    "This loads the submodule `automotive.tuning.chip_tuning`. It must be referenced with its full name.\n",
    "\n",
    "```python\n",
    "automotive.tuning.chip_tuning.increase_power(car_model, hp_increase=50, torque_increase=80)\n",
    "```\n",
    "\n",
    "An alternative way of importing the submodule is:\n",
    "\n",
    "```python\n",
    "from automotive.tuning import chip_tuning\n",
    "```\n",
    "\n",
    "This also loads the submodule `chip_tuning`, and makes it available without its package prefix, so it can be used as follows:\n",
    "\n",
    "```python\n",
    "chip_tuning.increase_power(car_model, hp_increase=50, torque_increase=80)\n",
    "```\n",
    "\n",
    "Yet another variation is to import the desired function or variable directly:\n",
    "\n",
    "```python\n",
    "from automotive.tuning.chip_tuning import increase_power\n",
    "```\n",
    "\n",
    "Again, this loads the submodule `chip_tuning`, but this makes its function `increase_power()` directly available:\n",
    "\n",
    "```python\n",
    "increase_power(car_model, hp_increase=50, torque_increase=80)\n",
    "```\n",
    "\n",
    "##### Import * \n",
    "\n",
    "When I want to `from automotive.tuning import *`, will it work?\n",
    "\n",
    "It will, but as package author I could specify what should be imported.\n",
    "\n",
    "To do so I need to use `__all__` in a `__init__.py`: \n",
    "\n",
    "```python\n",
    "__all__ = [\"chip_tuning\", \"exhaust\", \"suspension\"] # automotive/tuning/__init__.py\n",
    "```\n",
    "\n",
    "Similarly, the main package's `automotive/__init__.py` could define which subpackages should be imported with a wildcard:\n",
    "\n",
    "```python\n",
    "__all__ = [\"models\", \"tuning\", \"diagnostics\"]\n",
    "```"
   ]
  },
  {
   "cell_type": "markdown",
   "metadata": {},
   "source": [
    "## Input and Output "
   ]
  },
  {
   "cell_type": "markdown",
   "metadata": {},
   "source": [
    "### Formatted string literals"
   ]
  },
  {
   "cell_type": "code",
   "execution_count": 1,
   "metadata": {},
   "outputs": [
    {
     "data": {
      "text/plain": [
       "'Marcin drives a Porshe 911.'"
      ]
     },
     "execution_count": 1,
     "metadata": {},
     "output_type": "execute_result"
    }
   ],
   "source": [
    "driver = 'Marcin'\n",
    "car = 'Porshe 911'\n",
    "\n",
    "f'{driver} drives a {car}.'"
   ]
  },
  {
   "cell_type": "markdown",
   "metadata": {},
   "source": [
    "### str.format()"
   ]
  },
  {
   "cell_type": "code",
   "execution_count": 4,
   "metadata": {},
   "outputs": [
    {
     "data": {
      "text/plain": [
       "'10.18% of drivers are drifters.'"
      ]
     },
     "execution_count": 4,
     "metadata": {},
     "output_type": "execute_result"
    }
   ],
   "source": [
    "drivers = 12_123_543\n",
    "drifters = 1_234_567\n",
    "drifters_percent = drifters / drivers\n",
    "\n",
    "'{:.2%} of drivers are drifters.'.format(drifters_percent)"
   ]
  },
  {
   "cell_type": "markdown",
   "metadata": {},
   "source": [
    "Any variable can be converted to string by using `str()`\n",
    "\n",
    "Also there is a `repr()` function. \n",
    "\n",
    "It returns a printable representation of object. It's useful for:\n",
    "- debugging\n",
    "- getting raw string representation of objects\n"
   ]
  },
  {
   "cell_type": "code",
   "execution_count": 6,
   "metadata": {},
   "outputs": [
    {
     "name": "stdout",
     "output_type": "stream",
     "text": [
      "[1, 2, 3]\n",
      "[1, 2, 3]\n"
     ]
    }
   ],
   "source": [
    "print(repr([1, 2, 3]))\n",
    "print(str([1, 2, 3]))"
   ]
  },
  {
   "cell_type": "markdown",
   "metadata": {},
   "source": [
    "What is a difference between the `repr()` and the `str()`?\n",
    "\n",
    "`str()` output is readable for humans, `repr()` generates representations which can be read by the interpreter , including details like quotes and escape characters."
   ]
  },
  {
   "cell_type": "markdown",
   "metadata": {},
   "source": [
    "### f-strings\n",
    "\n",
    "Allows to specify formatting when printing something."
   ]
  },
  {
   "cell_type": "code",
   "execution_count": 8,
   "metadata": {},
   "outputs": [
    {
     "name": "stdout",
     "output_type": "stream",
     "text": [
      "BMW      was produced in 1998.\n",
      "Toyota   was produced in 2005.\n",
      "Honda    was produced in 2010.\n"
     ]
    }
   ],
   "source": [
    "cars = {'BMW': 1998, 'Toyota': 2005, 'Honda': 2010}\n",
    "\n",
    "for car, year in cars.items():\n",
    "    print(f'{car:8} was produced in {year}.')"
   ]
  },
  {
   "cell_type": "markdown",
   "metadata": {},
   "source": [
    "### Other modifiers \n",
    "\n",
    "- '!a' applies `ascii()`\n",
    "- '!s' applies `str()`\n",
    "- '!r' applies `repr()`\n"
   ]
  },
  {
   "cell_type": "code",
   "execution_count": 11,
   "metadata": {},
   "outputs": [
    {
     "name": "stdout",
     "output_type": "stream",
     "text": [
      "My favorite cars are {'BMW': 1998, 'Toyota': 2005, 'Honda': 2010}\n",
      "My favorite cars are {'BMW': 1998, 'Toyota': 2005, 'Honda': 2010}\n",
      "My favorite cars are {'BMW': 1998, 'Toyota': 2005, 'Honda': 2010}\n",
      "My favorite cars are {'BMW': 1998, 'Toyota': 2005, 'Honda': 2010}\n"
     ]
    }
   ],
   "source": [
    "favorite_cars = ['FSO', 'Dacia', 'Fiat']\n",
    "print(f'My favorite cars are {cars}')\n",
    "print(f'My favorite cars are {cars!a}')\n",
    "print(f'My favorite cars are {cars!s}')\n",
    "print(f'My favorite cars are {cars!r}')"
   ]
  },
  {
   "cell_type": "markdown",
   "metadata": {},
   "source": [
    "#### the `=` specifier in f-strings"
   ]
  },
  {
   "cell_type": "code",
   "execution_count": 12,
   "metadata": {},
   "outputs": [
    {
     "name": "stdout",
     "output_type": "stream",
     "text": [
      "car='BMW' has been in the garage for years=25 years in garage='Wrocław'.\n"
     ]
    }
   ],
   "source": [
    "car = 'BMW'\n",
    "years = 25\n",
    "garage = 'Wrocław'\n",
    "\n",
    "print(f'{car=} has been in the garage for {years=} years in {garage=}.')"
   ]
  },
  {
   "cell_type": "markdown",
   "metadata": {},
   "source": [
    "It's nice for debugging purposes. It prints both - variable name and its value.\n",
    "\n",
    "### More on `str.format()` \n",
    "\n",
    "#### Basic usage"
   ]
  },
  {
   "cell_type": "code",
   "execution_count": 10,
   "metadata": {},
   "outputs": [
    {
     "name": "stdout",
     "output_type": "stream",
     "text": [
      "BMW is a car that is fast.\n",
      "BMW or Porshe?\n",
      "Porshe or BMW?\n",
      "BMW or Porshe?\n",
      "BMW or Porshe?\n"
     ]
    }
   ],
   "source": [
    "print('BMW is a {} that is {}.'.format('car', 'fast'))\n",
    "print('{0} or {1}?'.format('BMW', 'Porshe'))\n",
    "print('{1} or {0}?'.format('BMW', 'Porshe')) \n",
    "print('{car} or {other}?'.format(car='BMW', other='Porshe'))\n",
    "print('{car} or {other}?'.format(other='Porshe', car='BMW'))"
   ]
  },
  {
   "cell_type": "markdown",
   "metadata": {},
   "source": [
    "Reference the variable to be formatted by name instead of position."
   ]
  },
  {
   "cell_type": "code",
   "execution_count": 11,
   "metadata": {},
   "outputs": [
    {
     "name": "stdout",
     "output_type": "stream",
     "text": [
      "BMW: 1998; Toyota: 2005; Honda: 2010\n",
      "BMW: 1998; Toyota: 2005; Honda: 2010\n"
     ]
    }
   ],
   "source": [
    "table = {'BMW': 1998, 'Toyota': 2005, 'Honda': 2010}\n",
    "print('BMW: {0[BMW]:d}; Toyota: {0[Toyota]:d}; Honda: {0[Honda]:d}'.format(table))\n",
    "print('BMW: {BMW:d}; Toyota: {Toyota:d}; Honda: {Honda:d}'.format(**table))"
   ]
  },
  {
   "cell_type": "markdown",
   "metadata": {},
   "source": [
    "### Reading and writing files"
   ]
  },
  {
   "cell_type": "code",
   "execution_count": null,
   "metadata": {},
   "outputs": [],
   "source": [
    "f = open('testfile.txt', 'w')"
   ]
  },
  {
   "cell_type": "markdown",
   "metadata": {},
   "source": [
    "Modes:\n",
    "- `r` - reading (default)\n",
    "- `w` - writing\n",
    "- `a` - appending\n",
    "- `r+` - reading and writing\n",
    "\n",
    "Appending `b` to mode opens a file in binary mode.\n",
    "\n",
    "#### `with` keyword\n",
    "\n",
    "Thanks to the `with` keyword, file is properly closed after its suite finishes, even if exception is raised. Using `with` is shorter than using a `try-finally` blocks and do the same: "
   ]
  },
  {
   "cell_type": "code",
   "execution_count": 12,
   "metadata": {},
   "outputs": [
    {
     "name": "stdout",
     "output_type": "stream",
     "text": [
      "Hello world!\n"
     ]
    }
   ],
   "source": [
    "with open('testfile.txt') as f:\n",
    "    for line in f:\n",
    "        print(line)  # Print each line without adding extra newline"
   ]
  },
  {
   "cell_type": "markdown",
   "metadata": {},
   "source": [
    "Without using `with` you should use `f.close()` to make sure that file is closes. With `with` you don't have to, because it will be closed automatically.\n",
    "\n",
    "#### Methods of file objects"
   ]
  },
  {
   "cell_type": "code",
   "execution_count": null,
   "metadata": {},
   "outputs": [
    {
     "data": {
      "text/plain": [
       "'Hello world!\\n'"
      ]
     },
     "execution_count": 19,
     "metadata": {},
     "output_type": "execute_result"
    }
   ],
   "source": [
    "my_file = open('testfile.txt')\n",
    "\n",
    "# Read the entire file\n",
    "my_file.read() \n",
    "# Read the first line\n",
    "my_file.readline()\n",
    "\n",
    "my_file.close()"
   ]
  },
  {
   "cell_type": "code",
   "execution_count": 20,
   "metadata": {},
   "outputs": [
    {
     "data": {
      "text/plain": [
       "14"
      ]
     },
     "execution_count": 20,
     "metadata": {},
     "output_type": "execute_result"
    }
   ],
   "source": [
    "my_file = open('testfile.txt', 'w')\n",
    "\n",
    "my_file.write('Hello, Sebix!\\n')"
   ]
  },
  {
   "cell_type": "markdown",
   "metadata": {},
   "source": [
    "### Saving structured data with `json`"
   ]
  },
  {
   "cell_type": "code",
   "execution_count": 24,
   "metadata": {},
   "outputs": [],
   "source": [
    "import json\n",
    "\n",
    "data = {'name': 'Sebix', 'age': 25, 'cars': ['BMW', 'Porshe']}\n",
    "\n",
    "json.dumps(data)\n",
    "\n",
    "json.dump(data, my_file)  # Write JSON data to file\n",
    "my_file.close()"
   ]
  }
 ],
 "metadata": {
  "kernelspec": {
   "display_name": "Python 3",
   "language": "python",
   "name": "python3"
  },
  "language_info": {
   "codemirror_mode": {
    "name": "ipython",
    "version": 3
   },
   "file_extension": ".py",
   "mimetype": "text/x-python",
   "name": "python",
   "nbconvert_exporter": "python",
   "pygments_lexer": "ipython3",
   "version": "3.12.1"
  }
 },
 "nbformat": 4,
 "nbformat_minor": 2
}
